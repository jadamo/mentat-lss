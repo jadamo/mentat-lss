{
 "cells": [
  {
   "cell_type": "code",
   "execution_count": 14,
   "id": "763d5405",
   "metadata": {},
   "outputs": [],
   "source": [
    "import numpy as np\n",
    "import scipy.stats as sp # for calculating standard error\n",
    "import multiprocessing\n",
    "from math import cos, exp, pi\n",
    "from scipy.integrate import quad, quad_vec\n",
    "from scipy import interpolate\n",
    "from scipy import integrate\n",
    "from scipy.special import eval_legendre\n",
    "from fastpt import FASTPT\n",
    "import matplotlib\n",
    "import matplotlib.pyplot as plt\n",
    "#import camb#/home/u14/gibbins/spherex_emu\n",
    "#from camb import model\n",
    "#import pyDOE\n",
    "#from pyDOE import lhs\n",
    "import time\n",
    "\n",
    "#from gpsclass import CalcGalaxyPowerSpec\n",
    "#from lhc import create_lhs_samples"
   ]
  },
  {
   "cell_type": "code",
   "execution_count": 11,
   "id": "5c51f891",
   "metadata": {},
   "outputs": [],
   "source": [
    "#Calculates Galaxy PS from Linear PS\n",
    "class CalcGalaxyPowerSpec:\n",
    "    def __init__(self,fz,Plin,karray,galaxyBias,cosmoParams):\n",
    "        #Define linear matter power spectrum and k array generated from CAMB\n",
    "        self.fz = fz\n",
    "        self.P_lin  = Plin\n",
    "        self.k_vec = karray\n",
    "        \n",
    "        self.sigv = 450.\n",
    "        \n",
    "        #pull out values of cosmology parameters used to generate the linear power spectrum from array\n",
    "        self.H0, self.omb, self.omc, self.As, self.ns = cosmoParams\n",
    "        \n",
    "        #assign values of bias parameters from bias array\n",
    "        #linear bias, quadratic bias, tidal bias, non-local bias\n",
    "        self.b1, self.b2, self.bs, self.b3nl = galaxyBias\n",
    "        \n",
    "        #computes FASTPT Grid. Needing for following power spectra calculations\n",
    "        # initialize the FASTPT class\n",
    "        # including extrapolation to higher and lower k\n",
    "        self.fastpt=FASTPT(self.k_vec,to_do=['all'],low_extrap=-5,high_extrap=3,n_pad=500)\n",
    "        \n",
    "    def get_linear_kaiser(self,x):\n",
    "        \"\"\"Calculates the density-density, density-velocity (I call this cross)\n",
    "           and velocity-velocity power spectra to third order\"\"\"\n",
    "        \n",
    "        #Define bias values\n",
    "        #b1 = self.b1\n",
    "        #b2 = self.b2\n",
    "        #bs = self.bs\n",
    "        #b3nl = self.b3nl\n",
    "        \n",
    "        ### DENSITY CALCULATION ###\n",
    "        \n",
    "        #calls function in FASTPT to compute all necessary components for density ps. stores them in one array\n",
    "        PXXNL_b1b2bsb3nl_d = self.fastpt.one_loop_dd_bias_b3nl_density(self.P_lin, C_window=.65)\n",
    "        \n",
    "        #Breaks up earlier array into individual components\n",
    "        [one_loopkz_d, Pd1d2_d, Pd2d2_d, Pd1s2_d, Pd2s2_d, Ps2s2_d, sig4kz, sig3nl] = [\n",
    "                np.outer(1, PXXNL_b1b2bsb3nl_d[0]),\n",
    "                np.outer(1, PXXNL_b1b2bsb3nl_d[2]),\n",
    "                np.outer(1, PXXNL_b1b2bsb3nl_d[3]),\n",
    "                np.outer(1, PXXNL_b1b2bsb3nl_d[4]),\n",
    "                np.outer(1, PXXNL_b1b2bsb3nl_d[5]),\n",
    "                np.outer(1, PXXNL_b1b2bsb3nl_d[6]),\n",
    "                np.outer(1, PXXNL_b1b2bsb3nl_d[7]),\n",
    "                np.outer(1, PXXNL_b1b2bsb3nl_d[8])]\n",
    "        \n",
    "        a=1/(1+.61)\n",
    "        c=299726.\n",
    "\n",
    "        #density-density galaxy power spectrum\n",
    "        Pgg_d = (self.b1**2 * (self.P_lin+one_loopkz_d)\n",
    "               + self.b1*self.b2*Pd1d2_d + \n",
    "               (1./4)*self.b2*self.b2*(Pd2d2_d - 2.*sig4kz)\n",
    "               + self.b1*self.bs*Pd1s2_d + \n",
    "               (1./2)*self.b2*self.bs*(Pd2s2_d - 4./3*sig4kz)\n",
    "               + (1./4)*self.bs*self.bs*(Ps2s2_d - 8./9*sig4kz) + (self.b1*self.b3nl)*sig3nl)\n",
    "        \n",
    "        ### VELOCITY CALCULATION ###\n",
    "        \n",
    "        #calls function in FASTPT to compute all necessary components for velocity ps. stores them in one array\n",
    "        PXXNL_b1b2bsb3nl_v = self.fastpt.one_loop_dd_bias_b3nl_velocity(self.P_lin, C_window=.65)\n",
    "\n",
    "        #Breaks up earlier arrays into individual components\n",
    "        #Some are the same as the density calculation. Only new terms are computed here\n",
    "        [one_loopkz_v, Pd1d2_v, Pd1s2_v] = [\n",
    "                np.outer(1, PXXNL_b1b2bsb3nl_v[0]),\n",
    "                np.outer(1, PXXNL_b1b2bsb3nl_v[3]),\n",
    "                np.outer(1, PXXNL_b1b2bsb3nl_v[4])]\n",
    "        \n",
    "        #velocity-velocity galaxy power spectrum\n",
    "        #need factor of (a*67.*fz/c)**2 to make units work\n",
    "        Pgg_v = (self.P_lin+(a*self.H0*self.fz/c)**2*one_loopkz_v)\n",
    "        \n",
    "        ### CROSS CALCULATION ###\n",
    "        \n",
    "        #calls function in FASTPT to compute all necessary components for cross ps. stores them in one array\n",
    "        PXXNL_b1b2bsb3nl_c = self.fastpt.one_loop_dd_bias_b3nl_cross(self.P_lin, C_window=.65)\n",
    "        \n",
    "        #Breaks up earlier arrays into individual components\n",
    "        #Some are the same as the earlier calculations. Only new terms are computed here\n",
    "        [one_loopkz_c] = [np.outer(1, PXXNL_b1b2bsb3nl_c[0])]\n",
    "        \n",
    "        #density-velocity galaxy power spectrum\n",
    "        #need factor of (a*67.*fz/c) to make units work\n",
    "        Pgg_c =  (self.b1*(self.P_lin+(a*self.H0*self.fz/c)*one_loopkz_c) \n",
    "                   + (a*self.H0*self.fz/c)*(self.b2*Pd1d2_v + self.bs*Pd1s2_v) \n",
    "                   + self.b3nl*sig3nl)\n",
    "        \n",
    "        #kaiser = Pgg_d + 2.*f*x**2*Pgg_c + f**2*x**4*Pgg_v\n",
    "        \n",
    "        #Combine terms we just calculated to get kaiser term \n",
    "        return Pgg_d + 2.*self.fz*x**2*Pgg_c + self.fz**2*x**4*Pgg_v #Pgg_d, Pgg_c, Pgg_v\n",
    "    \n",
    "    def get_tns_corrections(self,x):\n",
    "        \"\"\"Calculate the TNS correction terms. These account for nonlinearities arising from coupling\n",
    "           between the density and velocity fields\"\"\"\n",
    "        \n",
    "        #Here I get the individual terms for the TNS corrections.\n",
    "        A1, A3, A5, B0, B2, B4, B6, P_Ap1, P_Ap3, P_Ap5 = self.fastpt.RSD_components(self.P_lin, self.fz/self.b1, P_window=None, C_window=0.65)\n",
    "        \n",
    "        #These are found in the FAST-PT github under RSD.py\n",
    "        A_mu2 = self.k_vec*(self.fz/self.b1)*(A1 + P_Ap1)\n",
    "        A_mu4 = self.k_vec*(self.fz/self.b1)*(A3 + P_Ap3) \n",
    "        A_mu6 = self.k_vec*(self.fz/self.b1)*(A5 + P_Ap5)\n",
    "\n",
    "        B_mu2 = ((self.fz/self.b1)*self.k_vec)**2*B0\n",
    "        B_mu4 = ((self.fz/self.b1)*self.k_vec)**2*B2\n",
    "        B_mu6 = ((self.fz/self.b1)*self.k_vec)**2*B4\n",
    "        B_mu8 = ((self.fz/self.b1)*self.k_vec)**2*B6\n",
    "        \n",
    "        #return A_mu2, A_mu4, A_mu6, B_mu2, B_mu4, B_mu6, B_mu8\n",
    "        return (self.b1**3*A_mu2+self.b1**4*B_mu2)*x**2 + (self.b1**3*A_mu4+self.b1**4*B_mu4)*x**4 + (self.b1**3*A_mu6+self.b1**4*B_mu6)*x**6 + self.b1**4*B_mu8*x**8 \n",
    "    \n",
    "    def get_FOG(self,x,sigv):\n",
    "        \"\"\"Describes effect of the velocity field on small scale galaxy clustering\"\"\"\n",
    "        \n",
    "        #FOG term can take different functional forms. Here we choose to use an exponential\n",
    "        arg = self.fz*x*(self.k_vec/(self.H0/100))*self.sigv/(self.H0)\n",
    "        \n",
    "        return np.exp(-.5*arg**2)\n",
    "    \n",
    "    def get_integrand(self, x,pole):\n",
    "        \"\"\"Integrand needed to perform integral\"\"\"\n",
    "        \n",
    "        coeff = (2.*pole +1.)/2.\n",
    "        \n",
    "        return coeff*eval_legendre(pole,x)*self.get_FOG(x,self.sigv)*(self.get_linear_kaiser(x)+self.get_tns_corrections(x))\n",
    "    \n",
    "    def get_nonlinear_ps(self,pole):\n",
    "        \n",
    "        result = np.zeros((1,len(self.k_vec)))\n",
    "        \n",
    "        #def get_integrand(self, x):\n",
    "        #    \"\"\"Integrand needed to perform integral\"\"\"\n",
    "        \n",
    "        #    coeff = (2.*pole +1.)/2.\n",
    "        \n",
    "        #    return coeff*eval_legendre(pole,x)*self.get_FOG(x,self.sigv)*(self.get_linear_kaiser(x)+self.get_tns_corrections(x))\n",
    "\n",
    "        \n",
    "        result[0,:], error = integrate.quad_vec(self.get_integrand, -1, 1,args=(pole,))\n",
    "            \n",
    "        return result"
   ]
  },
  {
   "cell_type": "markdown",
   "id": "fb2f474d",
   "metadata": {},
   "source": [
    "### For Tracer1 auto spectra"
   ]
  },
  {
   "cell_type": "code",
   "execution_count": 31,
   "id": "40d29f74",
   "metadata": {},
   "outputs": [],
   "source": [
    "ps = np.load('/Users/anniemoore/desktop/out.npz')\n"
   ]
  },
  {
   "cell_type": "code",
   "execution_count": 32,
   "id": "5743c360",
   "metadata": {},
   "outputs": [
    {
     "name": "stdout",
     "output_type": "stream",
     "text": [
      "['params', 'psm', 'psq']\n"
     ]
    }
   ],
   "source": [
    "print(ps.files)\n",
    "\n",
    "mono_test = ps['psm']\n",
    "quad_test = ps['psq']"
   ]
  },
  {
   "cell_type": "code",
   "execution_count": 33,
   "id": "16712e70",
   "metadata": {},
   "outputs": [
    {
     "data": {
      "text/plain": [
       "[<matplotlib.lines.Line2D at 0x1427a3b80>]"
      ]
     },
     "execution_count": 33,
     "metadata": {},
     "output_type": "execute_result"
    },
    {
     "data": {
      "image/png": "[encoded data removed]",
      "text/plain": [
       "<Figure size 640x480 with 1 Axes>"
      ]
     },
     "metadata": {},
     "output_type": "display_data"
    }
   ],
   "source": [
    "#array([6.22954856e+01, 5.88608308e-01, 1.78577808e-01, 2.01059374e-09,\n",
    " #      1.11635806e+00]), \n",
    "k= np.array([0.001     , 0.00180165, 0.00324594, 0.00584804, 0.0105361 ,\n",
    "       0.01898235, 0.03419952, 0.0616155 , 0.11100946, 0.2       ])\n",
    "mono = np.array([ 147.62361742,  284.41508111,  545.89021707, 1039.31365139,\n",
    "       1942.59834222, 3488.75731165, 5673.27025113, 7113.53467377,\n",
    "       4187.55688335,  340.28594947])\n",
    "quad = np.array([  65.97793396,  127.03926337,  243.74146396,  463.52766154,\n",
    "        862.92941065, 1527.48045941, 2373.92278274, 2539.42212577,\n",
    "        714.65097596,  -59.32596458])\n",
    "\n",
    "# array([ 147.62362013,  284.41508553,  545.89022397, 1039.31366166,\n",
    "#        1942.5983558 , 3488.75732671, 5673.27026085, 7113.53479143,\n",
    "#        4187.55684958,  340.28571521]), array([  65.97793517,  127.03926534,  243.74146705,  463.52766613,\n",
    "#         862.92941678, 1527.48046612, 2373.92278643, 2539.42214633,\n",
    "#         714.65097507,  -59.32586196]))\n",
    "\n",
    "plt.plot(k,mono,color='red')\n",
    "plt.plot(k,mono_test,linestyle='--',color='red')\n",
    "plt.plot(k,quad,color='blue')\n",
    "plt.plot(k,quad_test,linestyle='--',color='blue')"
   ]
  },
  {
   "cell_type": "code",
   "execution_count": null,
   "id": "f62152d8",
   "metadata": {},
   "outputs": [],
   "source": [
    "array([3.94649938e+01, 9.02874360e-01, 2.44894201e-01, 2.12798316e-09,\n",
    "       1.05033112e+00])"
   ]
  },
  {
   "cell_type": "markdown",
   "id": "c67aad4c",
   "metadata": {},
   "source": [
    "### For Tracer 2 auto spectra"
   ]
  },
  {
   "cell_type": "code",
   "execution_count": null,
   "id": "5b5bc350",
   "metadata": {},
   "outputs": [],
   "source": []
  }
 ],
 "metadata": {
  "kernelspec": {
   "display_name": "Python 3 (ipykernel)",
   "language": "python",
   "name": "python3"
  },
  "language_info": {
   "codemirror_mode": {
    "name": "ipython",
    "version": 3
   },
   "file_extension": ".py",
   "mimetype": "text/x-python",
   "name": "python",
   "nbconvert_exporter": "python",
   "pygments_lexer": "ipython3",
   "version": "3.10.9"
  }
 },
 "nbformat": 4,
 "nbformat_minor": 5
}
